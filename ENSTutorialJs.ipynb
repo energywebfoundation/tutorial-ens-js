{
 "cells": [
  {
   "cell_type": "markdown",
   "metadata": {},
   "source": [
    "# Ethereum ENS tutorial and playground with JavaScript & web3.js\n",
    "\n",
    "Tested on Energy Web Foundation's Tobalaba test network.\n",
    "\n",
    "Please make a test account with some test tokens for experimentation"
   ]
  },
  {
   "cell_type": "code",
   "execution_count": null,
   "metadata": {},
   "outputs": [],
   "source": [
    "const Web3 = require('web3')\n",
    "const ENS = require('ethereum-ens')\n",
    "const namehash = require('eth-ens-namehash')\n",
    "const fs = require(\"fs\")\n",
    "\n",
    "const registryAddress = \"0x76b4d318cf896288fd44315e93c891ad4017aa14\"\n",
    "const registrarAddress = \"0xf106c25e7624726dfa52a25f4fef29ec6a8ce103\"\n",
    "const resolverAddress = \"0x1da4c76ed136f32693700714502c6dacd62f5a3c\"\n",
    "const reverseResolverAddress = \"0x9d17a1ef45df65af5cdbfc98e3bfe3e90463780e\"\n",
    "const reverseRegistrarAddress = \"0x89a3ae0d90304b00cea94c0f5528b1c657b041cc\"\n",
    "\n",
    "const registryAbi = JSON.parse(fs.readFileSync(\"abis/ENSRegistry.abi\"))\n",
    "const registrarAbi = JSON.parse(fs.readFileSync(\"abis/FIFSRegistrar.abi\"))\n",
    "const resolverAbi = JSON.parse(fs.readFileSync(\"abis/PublicResolver.abi\"))\n",
    "const reverseResolverAbi = JSON.parse(fs.readFileSync(\"abis/DefaultReverseResolver.abi\"))\n",
    "const reverseRegistrarAbi = JSON.parse(fs.readFileSync(\"abis/ReverseRegistrar.abi\"))\n",
    "const resolverInterfaceAbi = JSON.parse(fs.readFileSync(\"abis/ResolverInterface.abi\"))\n",
    "\n",
    "const ADDRESS_EMPTY = '0x0000000000000000000000000000000000000000'"
   ]
  },
  {
   "cell_type": "code",
   "execution_count": null,
   "metadata": {},
   "outputs": [],
   "source": [
    "var provider = new Web3.providers.HttpProvider(\"http://localhost:8545\")\n",
    "var w3 = new Web3(provider)\n",
    "var sha3 = w3.sha3\n",
    "\n",
    "// if you want to use an ENS library, you need it to point to the EWF Registry address\n",
    "var ens = new ENS(w3, registryAddress)\n",
    "\n",
    "// set default account and unlock it\n",
    "w3.eth.defaultAccount = w3.eth.accounts[0]\n",
    "//w3.personal.unlockAccount(w3.eth.defaultAccount, \"yourpassowrd\")"
   ]
  },
  {
   "cell_type": "code",
   "execution_count": null,
   "metadata": {},
   "outputs": [],
   "source": [
    "// Instantiate the deployed registry and resolver contracts to use\n",
    "Registry = w3.eth.contract(registryAbi)\n",
    "Registrar = w3.eth.contract(registrarAbi)\n",
    "Resolver = w3.eth.contract(resolverAbi)\n",
    "ReverseResolver = w3.eth.contract(reverseResolverAbi)\n",
    "ReverseRegistrar = w3.eth.contract(reverseRegistrarAbi)\n",
    "\n",
    "registry = Registry.at(registryAddress)\n",
    "registrar = Registrar.at(registrarAddress)\n",
    "resolver = Resolver.at(resolverAddress)\n",
    "reverseResolver = ReverseResolver.at(reverseResolverAddress)\n",
    "reverseRegistrar = ReverseRegistrar.at(reverseRegistrarAddress)"
   ]
  },
  {
   "cell_type": "markdown",
   "metadata": {},
   "source": [
    "## Doing lookups and reverse lookups"
   ]
  },
  {
   "cell_type": "markdown",
   "metadata": {},
   "source": [
    "### Resolving names (lookup)\n",
    "\n",
    " 1. Get resolver address of a node from registry\n",
    " 2. Instantiate resolver contrac with resolver interface abi\n",
    " 3. Fetch registered address (or whatever you need)"
   ]
  },
  {
   "cell_type": "code",
   "execution_count": null,
   "metadata": {},
   "outputs": [],
   "source": [
    "var nameToCheck = \"mycompany.ewf\"\n",
    "regAddr = registry.resolver.call(namehash.hash(nameToCheck))\n",
    "\n",
    "// check if resolver is actually set\n",
    "if(regAddr !== '0x0000000000000000000000000000000000000000') {\n",
    "    ResolverInterface = w3.eth.contract(resolverInterfaceAbi)\n",
    "    resInt = ResolverInterface.at(regAddr)\n",
    "    console.log(resInt.addr.call(namehash.hash(nameToCheck)))\n",
    "} else {\n",
    "    console.log(\"This name cannot be resolved: resolver not set.\")\n",
    "}"
   ]
  },
  {
   "cell_type": "markdown",
   "metadata": {},
   "source": [
    "### Resolving addresses (reverse lookup)\n",
    "\n",
    "1. Get resolver address of the address node from registry\n",
    "2. Instantiate reverse resolver contract\n",
    "3. Fetch canonical name for the address\n"
   ]
  },
  {
   "cell_type": "code",
   "execution_count": null,
   "metadata": {},
   "outputs": [],
   "source": [
    "// More explanation below at \"Step 4 - Set reverse lookup\"\n",
    "var addressToResolve = w3.eth.accounts[0]\n",
    "var addressNodeHash = reverseRegistrar.node.call(addressToResolve)\n",
    "\n",
    "// Fetch the resolver\n",
    "AReverseResolver = w3.eth.contract(reverseResolverAbi)\n",
    "aReverseResolver = AReverseResolver.at(reverseResolverAddress)\n",
    "registeredName = aReverseResolver.name.call(addressNodeHash)\n",
    "\n",
    "console.log(registeredName + \" is the canonical name to \" + addressToResolve)"
   ]
  },
  {
   "cell_type": "markdown",
   "metadata": {},
   "source": [
    "## Registering and managing names (nodes)"
   ]
  },
  {
   "cell_type": "markdown",
   "metadata": {},
   "source": [
    "### Step 1 - Check if a name is available to register"
   ]
  },
  {
   "cell_type": "code",
   "execution_count": null,
   "metadata": {},
   "outputs": [],
   "source": [
    "// check ownership directly interacting with the registry contract\n",
    "var nameToCheck = \"mycompany.ewf\"\n",
    "if(registry.owner.call(namehash.hash(nameToCheck)) === ADDRESS_EMPTY) {\n",
    "    console.log(nameToCheck + \" is avaiable\")\n",
    "} else {\n",
    "    console.log(nameToCheck + \" is taken\")\n",
    "}"
   ]
  },
  {
   "cell_type": "markdown",
   "metadata": {},
   "source": [
    "### Step 2 - Registering ownership of a name\n",
    "\n",
    "Claim ownership of your desired domain (FIFS registrar: first come, first served) It will be registered under the .ewf top level domain"
   ]
  },
  {
   "cell_type": "code",
   "execution_count": null,
   "metadata": {},
   "outputs": [],
   "source": [
    "var nameowner = w3.eth.accounts[0]\n",
    "var label = 'mycompany'\n",
    "registrar.register.sendTransaction(sha3(label), nameowner)"
   ]
  },
  {
   "cell_type": "code",
   "execution_count": null,
   "metadata": {},
   "outputs": [],
   "source": [
    "// Let's check if we succeed\n",
    "\n",
    "takenBy = registry.owner.call(namehash.hash(label + \".ewf\"))\n",
    "if (takenBy === ADDRESS_EMPTY) {\n",
    "    console.log(label + \".ewf is avaiable\")\n",
    "} else {\n",
    "    // should be your owner address\n",
    "    console.log(label + \".ewf is taken by: \" + takenBy)\n",
    "}"
   ]
  },
  {
   "cell_type": "markdown",
   "metadata": {},
   "source": [
    "#### Change owner of the node"
   ]
  },
  {
   "cell_type": "code",
   "execution_count": null,
   "metadata": {},
   "outputs": [],
   "source": [
    "var newowner = \"new_owner_address_here\"\n",
    "registry.setOwner.sendTransaction(namehash.hash(label), newowner)"
   ]
  },
  {
   "cell_type": "markdown",
   "metadata": {},
   "source": [
    "### Step 3 - Mapping an address to your name\n",
    "Map the name to point to your desired address in a Resolver contract.\n",
    "\n",
    " - Feel free to use the supplied public resolver, but you can also deploy your own\n",
    " - You need to have ownership of the name already\n",
    " - Give it a lil gas\n",
    "\n"
   ]
  },
  {
   "cell_type": "code",
   "execution_count": null,
   "metadata": {},
   "outputs": [],
   "source": [
    "var pointToAddress = w3.eth.accounts[0]\n",
    "var nameToMap = \"mycompany.ewf\"\n",
    "txhash = resolver.setAddr.sendTransaction(namehash.hash(nameToMap), pointToAddress, {\"gas\": 800000})"
   ]
  },
  {
   "cell_type": "code",
   "execution_count": null,
   "metadata": {},
   "outputs": [],
   "source": [
    "// verify the result - wait for like 5 secs till it get mined. No error, no problems\n",
    "assert(resolver.addr.call(namehash.hash(nameToMap)) == pointToAddress)\n",
    "console.log(\"Great!\")"
   ]
  },
  {
   "cell_type": "markdown",
   "metadata": {},
   "source": [
    "#### Change resolver of a node"
   ]
  },
  {
   "cell_type": "code",
   "execution_count": null,
   "metadata": {},
   "outputs": [],
   "source": [
    "// change resolver of a node\n",
    "var newResolverAddress = \"your_resolver_address_here\"\n",
    "registry.setResolver.sendTransaction(namehash.hash(nameToMap), newResolverAddress)"
   ]
  },
  {
   "cell_type": "markdown",
   "metadata": {},
   "source": [
    "### Step 4 - Set reverse lookup\n",
    "Now you also want others to check the canonical name that belongs to your address. Multiple names can belong to an address, but you can set only one for reverse lookups. This step is optional.\n",
    "\n",
    "Reverse Registrar holds the \".addr.reverse\" top domain. Address nodes are registered in the form of \"< hex account address >.addr.reverse\". To reverse lookup the name for an address, just simply do a lookup to < hex account address >.addr.reverse. Don't forget to remove the the leading '0x' from the address."
   ]
  },
  {
   "cell_type": "code",
   "execution_count": null,
   "metadata": {},
   "outputs": [],
   "source": [
    "// Registering the reverse record\n",
    "\n",
    "// Calling account must be the owner of the name\n",
    "var nameOwner = w3.eth.accounts[0]\n",
    "var nameToMap = \"mypreferredname.ewf\"\n",
    "reverseRegistrar.setName.sendTransaction(nameToMap, {\"from\": nameOwner})"
   ]
  },
  {
   "cell_type": "code",
   "execution_count": null,
   "metadata": {},
   "outputs": [],
   "source": [
    "// Doing a reverse lookup method 1 - getting the address node hash from the registrar contract\n",
    "var addressnodeNamehash1 = reverseRegistrar.node.call(nameOwner)\n",
    "var registeredName1 = reverseResolver.name.call(addressnodeNamehash1)\n",
    "\n",
    "// Doing a reverse lookup method 2 - caculating the addres node hash yourself\n",
    "// you have to cut down the '0x' beginning of the address string\n",
    "var addressnodeNamehash2 = namehash.hash(nameOwner.slice(2)+\".addr.reverse\")\n",
    "var registeredName2 = reverseResolver.name.call(addressnodeNamehash2)\n",
    "\n",
    "// Doing a reverse lookup method 3 - if a custom/different resolver was used then the provided one,\n",
    "// first you can get its address from the registry\n",
    "var customReverseResolverAddress = registry.resolver.call(addressnodeNamehash1)\n",
    "// instantiate using its abi, then proceed with a regular lookup as in version 1 or 2\n",
    "// in this case it is the same abi as before (this is just a showcase)\n",
    "var CustomReverseResolver = w3.eth.contract(reverseResolverAbi)\n",
    "var customReverseResolver = CustomReverseResolver.at(customReverseResolverAddress)\n",
    "var registeredName3 = customReverseResolver.name.call(addressnodeNamehash1)\n",
    "\n",
    "// See that the 3 methods are equal\n",
    "assert(registeredName1 === registeredName2 && registeredName2 === registeredName3)\n",
    "\n",
    "console.log(nameOwner + \" reverse lookup: \" + registeredName1)"
   ]
  },
  {
   "cell_type": "markdown",
   "metadata": {},
   "source": [
    "### Step 5 - Register subnodes\n",
    "\n",
    "Once you have ownership of a name (node), you have the ability to register sub-nodes as well. E.g: adam.yourdomain.ewf You have to be the owner of the root domain (in this case yourdomain.ewf) in order to register a subnode.\n"
   ]
  },
  {
   "cell_type": "code",
   "execution_count": null,
   "metadata": {},
   "outputs": [],
   "source": [
    "// E.g. I want to register my name (adam) as a subdomain under mycompany.ewf => adam.mycompany.ewf\n",
    "// in this case I register the subnode for my account as well\n",
    "var subnodeowner = w3.eth.accounts[0]\n",
    "registry.setSubnodeOwner.sendTransaction(namehash.hash(\"mypreferredname.ewf\"), sha3(\"adam\"), subnodeowner, {\"gas\": 800000})"
   ]
  },
  {
   "cell_type": "code",
   "execution_count": null,
   "metadata": {},
   "outputs": [],
   "source": [
    "// verify the ownership transfer - wait for like 5 secs till it get mined\n",
    "assert(registry.owner.call(namehash.hash(\"adam.mypreferredname.ewf\")) === subnodeowner)\n",
    "console.log(\"Works!\")"
   ]
  },
  {
   "cell_type": "markdown",
   "metadata": {},
   "source": [
    "### Step 6 - Your experiments here\n",
    "\n",
    "Feel free to play around with ENS"
   ]
  },
  {
   "cell_type": "code",
   "execution_count": null,
   "metadata": {},
   "outputs": [],
   "source": []
  }
 ],
 "metadata": {
  "kernelspec": {
   "display_name": "Javascript (Node.js)",
   "language": "javascript",
   "name": "javascript"
  },
  "language_info": {
   "file_extension": ".js",
   "mimetype": "application/javascript",
   "name": "javascript",
   "version": "8.11.3"
  }
 },
 "nbformat": 4,
 "nbformat_minor": 2
}
